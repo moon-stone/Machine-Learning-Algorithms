{
 "cells": [
  {
   "cell_type": "code",
   "execution_count": 85,
   "metadata": {
    "id": "gcaFV815UArb"
   },
   "outputs": [],
   "source": [
    "#data preparation\n",
    "import pandas as pd\n",
    "import numpy as np\n",
    "import matplotlib.pyplot as plt"
   ]
  },
  {
   "cell_type": "code",
   "execution_count": 86,
   "metadata": {
    "colab": {
     "base_uri": "https://localhost:8080/"
    },
    "id": "mxc8gn6FUJ_v",
    "outputId": "b23338aa-fc34-42f7-d7a7-dd395684c27a"
   },
   "outputs": [
    {
     "name": "stdout",
     "output_type": "stream",
     "text": [
      "Index(['label', '1x1', '1x2', '1x3', '1x4', '1x5', '1x6', '1x7', '1x8', '1x9',\n",
      "       ...\n",
      "       '28x19', '28x20', '28x21', '28x22', '28x23', '28x24', '28x25', '28x26',\n",
      "       '28x27', '28x28'],\n",
      "      dtype='object', length=785)\n",
      "(60000, 785)\n",
      "<class 'numpy.ndarray'>\n"
     ]
    }
   ],
   "source": [
    "df = pd.read_csv('mnist_train.csv')\n",
    "df.shape\n",
    "print(df.columns)\n",
    "#we are creating one numpy array from panda dataframe\n",
    "data_value = df.values\n",
    "print(data_value.shape)\n",
    "print(type(data_value))"
   ]
  },
  {
   "cell_type": "code",
   "execution_count": 87,
   "metadata": {
    "colab": {
     "base_uri": "https://localhost:8080/"
    },
    "id": "MfVYcHtQUT2j",
    "outputId": "9591aec7-3d22-4ce7-e09a-47df3a235b25"
   },
   "outputs": [
    {
     "name": "stdout",
     "output_type": "stream",
     "text": [
      "[[0 0 0 ... 0 0 0]\n",
      " [1 0 0 ... 0 0 0]\n",
      " [1 0 0 ... 0 0 0]\n",
      " ...\n",
      " [1 0 0 ... 0 0 0]\n",
      " [0 0 0 ... 0 0 0]\n",
      " [1 0 0 ... 0 0 0]]\n",
      "(12665, 785)\n"
     ]
    }
   ],
   "source": [
    "# taking only 0 and 1 from the data_value\n",
    "\n",
    "data_point = []\n",
    "for i in range(data_value.shape[0]):\n",
    "  if data_value[i][0] == 1 or data_value[i][0] == 0:\n",
    "    data_point.append(data_value[i])\n",
    "\n",
    "data_point = np.array(data_point)\n",
    "print(data_point)\n",
    "print(data_point.shape)"
   ]
  },
  {
   "cell_type": "code",
   "execution_count": 109,
   "metadata": {
    "colab": {
     "base_uri": "https://localhost:8080/"
    },
    "id": "DbQp9f6fUW74",
    "outputId": "5d478857-10b1-4462-876a-787bb1415789"
   },
   "outputs": [
    {
     "name": "stdout",
     "output_type": "stream",
     "text": [
      "10132\n",
      "(10132, 784) (10132,)\n",
      "[[0 0 0 ... 0 0 0]\n",
      " [0 0 0 ... 0 0 0]\n",
      " [0 0 0 ... 0 0 0]\n",
      " ...\n",
      " [0 0 0 ... 0 0 0]\n",
      " [0 0 0 ... 0 0 0]\n",
      " [0 0 0 ... 0 0 0]]\n",
      "(2533, 784) (2533,)\n"
     ]
    }
   ],
   "source": [
    "#we are going to divide X into training data and testing data\n",
    "\n",
    "split = int(0.8*data_point.shape[0])\n",
    "print(split)\n",
    "\n",
    "np.random.shuffle(data_point)\n",
    "\n",
    "X_train = data_point[:split,1:]\n",
    "X_test = data_point[split:,1:]\n",
    "\n",
    "Y_train = data_point[:split,0]\n",
    "Y_test = data_point[split:,0]\n",
    "\n",
    "print(X_train.shape, Y_train.shape)\n",
    "print(X_train)\n",
    "#print(type(Y_test))\n",
    "#print(X_train.mean(axis=0))\n",
    "print(X_test.shape, Y_test.shape)"
   ]
  },
  {
   "cell_type": "code",
   "execution_count": 110,
   "metadata": {
    "id": "2VcOlz0tUa8W"
   },
   "outputs": [
    {
     "name": "stdout",
     "output_type": "stream",
     "text": [
      "(784,)\n",
      "(784,)\n",
      "[[0. 0. 0. ... 0. 0. 0.]\n",
      " [0. 0. 0. ... 0. 0. 0.]\n",
      " [0. 0. 0. ... 0. 0. 0.]\n",
      " ...\n",
      " [0. 0. 0. ... 0. 0. 0.]\n",
      " [0. 0. 0. ... 0. 0. 0.]\n",
      " [0. 0. 0. ... 0. 0. 0.]]\n"
     ]
    }
   ],
   "source": [
    "\n",
    "#data normalisation means means we want zero mean and unit standard deviation along each axis\n",
    "x_mean = X_train.mean(axis = 0) \n",
    "#print(X_train)\n",
    "print(x_mean.shape)\n",
    "#print(x_mean)\n",
    "x_std = X_train.std(axis=0)\n",
    "x_std[x_std == 0] = 0.00000001\n",
    "print(x_std.shape)\n",
    "#print(x_std)\n",
    "\n",
    "# Apply the transformation (value - mean)/std.dev which is also a z-score normalisation\n",
    "X_train = (X_train - x_mean) / x_std\n",
    "print(X_train)\n",
    "# we should do normalisation of testing as well as training data too.\n",
    "x_std = X_test.std(axis=0)\n",
    "x_std[x_std == 0] = 0.00000001\n",
    "X_test = (X_test - x_mean)/x_std  \n",
    "#print(X_test.shape)\n"
   ]
  },
  {
   "cell_type": "code",
   "execution_count": 111,
   "metadata": {
    "colab": {
     "base_uri": "https://localhost:8080/"
    },
    "id": "IBly7UVypLVe",
    "outputId": "a7f0151f-3dbf-4c90-9588-a8840a23dee5"
   },
   "outputs": [
    {
     "name": "stdout",
     "output_type": "stream",
     "text": [
      "(2533, 785)\n",
      "[[1. 0. 0. ... 0. 0. 0.]\n",
      " [1. 0. 0. ... 0. 0. 0.]\n",
      " [1. 0. 0. ... 0. 0. 0.]]\n"
     ]
    }
   ],
   "source": [
    "   # Prediction and Accuracy of Logistic regression model\n",
    "   \n",
    "   #we have to add dumy row of 1 in test data as well because we have added that colm in train data\n",
    "   X_new_test = np.hstack((np.ones((X_test.shape[0],1)),X_test))\n",
    "   print(X_new_test.shape)\n",
    "   print(X_new_test[:3,:])\n",
    "   "
   ]
  },
  {
   "cell_type": "code",
   "execution_count": 112,
   "metadata": {
    "id": "5Rw2qcCgrT7a"
   },
   "outputs": [],
   "source": [
    "def predict(X,theta):\n",
    "  #theta is model parameter\n",
    "  # first of all calculate hypothesis by calling hypothesis fn\n",
    "  h = hypothesis(X, theta)\n",
    "  # if score is greter than or equal to 0.5 we will make that label 1 and if it is less tha .5 then we will make the label 0\n",
    "  # label will be of type 1 or 0\n",
    "  output = np.zeros(h.shape) # output is of shape h\n",
    "  output[h >= 0.5] = 1  #make value in output 1 at those locations where value of h is greater than 0.5\n",
    "  output = output.astype('int') #we are changing type of output as int because it may be possible that our output values are in type float\n",
    "  return output\n",
    "\n",
    "# X_train_pred = predict(X_new_train,theta)\n",
    "# X_test_pred = predict(X_new_test, theta)\n",
    "\n",
    "#print(X_test_pred.shape)"
   ]
  },
  {
   "cell_type": "code",
   "execution_count": 113,
   "metadata": {
    "id": "_MRI2nJzrX84"
   },
   "outputs": [],
   "source": [
    "# Accuracy - for it we need to know the actucal values and we need to know the prediction values\n",
    "def accuracy(actual, preds):\n",
    "  #actual means y_train\n",
    "  \n",
    "  actual = actual.astype('int')\n",
    "  \n",
    "  actual = actual.reshape((-1,1)) # we should check both the arrays of same shape. for that reshape both of them into the colm vector only\n",
    "  #print(np.sum(actual == preds))\n",
    "  acc = np.sum(actual == preds)/actual.shape[0] \n",
    "  return acc*100\n"
   ]
  },
  {
   "cell_type": "code",
   "execution_count": 114,
   "metadata": {
    "id": "rdeuh4bQUeMr"
   },
   "outputs": [],
   "source": [
    "  def sigmoid(x):\n",
    "    # given any real number x we need to convert it into the range 0 to 1\n",
    "    return 1.0/(1.0 + np.exp(-x))\n",
    "  \n",
    "  def hypothesis(X, theta):\n",
    "    # this function is going to return hypothesis vector\n",
    "    return sigmoid(np.dot(X, theta))\n",
    "  \n",
    "\n",
    "  def error(X, y, theta): \n",
    "    # this function is going to return scaler value that is loss\n",
    "\n",
    "    hi = hypothesis(X, theta)\n",
    "    e = -1*np.mean((y*np.log(hi) + (1-y)*np.log(1-hi)))\n",
    "    \n",
    "    return e\n",
    "\n"
   ]
  },
  {
   "cell_type": "code",
   "execution_count": 115,
   "metadata": {
    "id": "q7tqcQMVm_9Z"
   },
   "outputs": [],
   "source": [
    "def gradient(X,y,theta):\n",
    "  # we are going to return gradient vaector whose shape is same as theta\n",
    "  # parameters X(m, n+1), Y(m,1), theta(n+1,1)\n",
    "\n",
    "  hi = hypothesis(X, theta)\n",
    "  grad =  np.dot(X.T,(y-hi)) # dot product will do summation itself and X.T means tranpose of X\n",
    "  m = X.shape[0]\n",
    "  return grad/m\n",
    "\n",
    "def gradient_descent(X,y,x_test,y_test, lr = 0.001,max_itr=200):\n",
    "  # lr = learning rate\n",
    "  \n",
    "  n = X.shape[1] # id will give number of colms bcz X(rows X colms)\n",
    "  theta = np.zeros((n,1))\n",
    "  print(theta.shape)\n",
    "  error_list = [] # for visualising error\n",
    "  accuracy_list = []\n",
    "  for i in range(max_itr):\n",
    "    #print(i+1)\n",
    "    err = error(X,y,theta)\n",
    "    #print(err)\n",
    "    x_test = X\n",
    "    y_test = y\n",
    "    X_test_pred = predict(x_test,theta)\n",
    "    train_accuracy = accuracy(y_test,X_test_pred)\n",
    "    accuracy_list.append(train_accuracy)\n",
    "    error_list.append(err)\n",
    "\n",
    "    grad = gradient(X,y,theta)\n",
    "\n",
    "    #gradient descent update\n",
    "\n",
    "    theta = theta + lr*grad\n",
    "\n",
    "  return (theta,error_list, accuracy_list)"
   ]
  },
  {
   "cell_type": "code",
   "execution_count": 116,
   "metadata": {
    "colab": {
     "base_uri": "https://localhost:8080/"
    },
    "id": "HZUS3SOqo95J",
    "outputId": "51e4d5e2-91f1-4606-ac45-92f8eaa8c028"
   },
   "outputs": [
    {
     "name": "stdout",
     "output_type": "stream",
     "text": [
      "(10132, 785)\n",
      "(10132,)\n",
      "(10132, 1)\n"
     ]
    }
   ],
   "source": [
    "# as of now A_train has only two colm, so we are going to add one dummy clom of all 1's\n",
    "ones = np.ones((X_train.shape[0],1))\n",
    "X_new_train = np.hstack((ones,X_train))  #by using np.hstack() we can add one more colm in the begining\n",
    "print(X_new_train.shape)\n",
    "print(Y_train.shape)\n",
    "Y_train = Y_train.reshape((-1,1))   # making sure that y would be a colm vector\n",
    "print(Y_train.shape)"
   ]
  },
  {
   "cell_type": "code",
   "execution_count": 117,
   "metadata": {
    "colab": {
     "base_uri": "https://localhost:8080/"
    },
    "id": "ts2bhgY9o-l_",
    "outputId": "e21d027e-0ad4-44f2-9f10-302b0b12b269"
   },
   "outputs": [
    {
     "name": "stdout",
     "output_type": "stream",
     "text": [
      "(785, 1)\n"
     ]
    }
   ],
   "source": [
    "theta,error_list, acc_list = gradient_descent(X_new_train, Y_train, X_new_test, Y_test)"
   ]
  },
  {
   "cell_type": "code",
   "execution_count": 118,
   "metadata": {
    "colab": {
     "base_uri": "https://localhost:8080/",
     "height": 282
    },
    "id": "Dot5kIy_pF7R",
    "outputId": "2201c5ad-6d5d-462c-b4fc-0a74796a3dc4"
   },
   "outputs": [
    {
     "data": {
      "text/plain": [
       "[<matplotlib.lines.Line2D at 0x18056e74c0>]"
      ]
     },
     "execution_count": 118,
     "metadata": {},
     "output_type": "execute_result"
    },
    {
     "data": {
      "image/png": "[encoded data removed]",
      "text/plain": [
       "<Figure size 432x288 with 1 Axes>"
      ]
     },
     "metadata": {
      "needs_background": "light"
     },
     "output_type": "display_data"
    }
   ],
   "source": [
    "plt.plot(error_list)"
   ]
  },
  {
   "cell_type": "code",
   "execution_count": 119,
   "metadata": {
    "colab": {
     "base_uri": "https://localhost:8080/",
     "height": 282
    },
    "id": "ibTlNHXPvyB0",
    "outputId": "09aa0895-9b35-4f6b-e7d6-a83abcccf441"
   },
   "outputs": [
    {
     "data": {
      "text/plain": [
       "[<matplotlib.lines.Line2D at 0x180586ca60>]"
      ]
     },
     "execution_count": 119,
     "metadata": {},
     "output_type": "execute_result"
    },
    {
     "data": {
      "image/png": "[encoded data removed]",
      "text/plain": [
       "<Figure size 432x288 with 1 Axes>"
      ]
     },
     "metadata": {
      "needs_background": "light"
     },
     "output_type": "display_data"
    }
   ],
   "source": [
    "plt.plot(acc_list)"
   ]
  },
  {
   "cell_type": "code",
   "execution_count": null,
   "metadata": {
    "colab": {
     "base_uri": "https://localhost:8080/"
    },
    "id": "kO7WrtIaraaH",
    "outputId": "2db4cc9d-36af-4eb6-fa58-2e5f5d483176"
   },
   "outputs": [
    {
     "name": "stdout",
     "output_type": "stream",
     "text": [
      "99.58547177260166\n",
      "99.56573233320174\n"
     ]
    }
   ],
   "source": [
    "X_train_pred = predict(X_new_train,theta)\n",
    "X_test_pred = predict(X_new_test, theta)\n",
    "\n",
    "train_accuracy = accuracy(Y_train,X_train_pred)\n",
    "#print(X_test.shape, X_test_pred.shape)\n",
    "test_accuracy = accuracy(Y_test, X_test_pred)\n",
    "print(train_accuracy)\n",
    "print(test_accuracy)"
   ]
  },
  {
   "cell_type": "code",
   "execution_count": null,
   "metadata": {
    "id": "30cj45L9rcW7"
   },
   "outputs": [],
   "source": []
  }
 ],
 "metadata": {
  "colab": {
   "collapsed_sections": [],
   "name": "logistic_regression_mnist.ipynb",
   "provenance": []
  },
  "kernelspec": {
   "display_name": "Python 3",
   "language": "python",
   "name": "python3"
  },
  "language_info": {
   "codemirror_mode": {
    "name": "ipython",
    "version": 3
   },
   "file_extension": ".py",
   "mimetype": "text/x-python",
   "name": "python",
   "nbconvert_exporter": "python",
   "pygments_lexer": "ipython3",
   "version": "3.8.5"
  }
 },
 "nbformat": 4,
 "nbformat_minor": 1
}
